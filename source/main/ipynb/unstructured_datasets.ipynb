{
  "nbformat": 4,
  "nbformat_minor": 0,
  "metadata": {
    "colab": {
      "provenance": []
    },
    "kernelspec": {
      "name": "python3",
      "display_name": "Python 3"
    },
    "language_info": {
      "name": "python"
    }
  },
  "cells": [
    {
      "cell_type": "markdown",
      "source": [
        "# Libraries"
      ],
      "metadata": {
        "id": "3PXRFNvGzY_R"
      }
    },
    {
      "cell_type": "code",
      "source": [
        "!pip install wget"
      ],
      "metadata": {
        "colab": {
          "base_uri": "https://localhost:8080/"
        },
        "id": "N0A01N3x92LW",
        "outputId": "3df51484-bef5-4548-fb86-214cb6029758"
      },
      "execution_count": 1,
      "outputs": [
        {
          "output_type": "stream",
          "name": "stdout",
          "text": [
            "Collecting wget\n",
            "  Downloading wget-3.2.zip (10 kB)\n",
            "  Preparing metadata (setup.py) ... \u001b[?25l\u001b[?25hdone\n",
            "Building wheels for collected packages: wget\n",
            "  Building wheel for wget (setup.py) ... \u001b[?25l\u001b[?25hdone\n",
            "  Created wheel for wget: filename=wget-3.2-py3-none-any.whl size=9657 sha256=dee46874b217dd5b0b6012199836a870fcecf1ee7e19ab004c73e8ee738186a1\n",
            "  Stored in directory: /root/.cache/pip/wheels/8b/f1/7f/5c94f0a7a505ca1c81cd1d9208ae2064675d97582078e6c769\n",
            "Successfully built wget\n",
            "Installing collected packages: wget\n",
            "Successfully installed wget-3.2\n"
          ]
        }
      ]
    },
    {
      "cell_type": "code",
      "execution_count": 2,
      "metadata": {
        "id": "lrCH8iJyzIbl"
      },
      "outputs": [],
      "source": [
        "import json\n",
        "import wget"
      ]
    },
    {
      "cell_type": "markdown",
      "source": [
        "#Datasets"
      ],
      "metadata": {
        "id": "JUULDcPX0kWo"
      }
    },
    {
      "cell_type": "markdown",
      "source": [
        "## COMPMIX"
      ],
      "metadata": {
        "id": "RbFw5DZR1NHL"
      }
    },
    {
      "cell_type": "code",
      "source": [
        "!mkdir compmix"
      ],
      "metadata": {
        "id": "q-tanvuy_70F"
      },
      "execution_count": 3,
      "outputs": []
    },
    {
      "cell_type": "code",
      "source": [
        "# compmix training set url\n",
        "compmix_train_url = \"https://qa.mpi-inf.mpg.de/compmix/train_set.json\"\n",
        "\n",
        "# compmix dev set url\n",
        "compmix_dev_url = \"https://qa.mpi-inf.mpg.de/compmix/dev_set.json\"\n",
        "\n",
        "# compmix test set url\n",
        "compmix_test_url = \"https://qa.mpi-inf.mpg.de/compmix/test_set.json\"\n",
        "\n",
        "\n",
        "# download datasets\n",
        "wget.download(compmix_train_url, out=\"/content/compmix/\")\n",
        "wget.download(compmix_dev_url, out=\"/content/compmix/\")\n",
        "wget.download(compmix_test_url, out=\"/content/compmix/\")"
      ],
      "metadata": {
        "id": "s9JMqyUB1Ycq",
        "colab": {
          "base_uri": "https://localhost:8080/",
          "height": 37
        },
        "outputId": "b812e68b-3584-4ca4-f697-e92b69244bd8"
      },
      "execution_count": 4,
      "outputs": [
        {
          "output_type": "execute_result",
          "data": {
            "text/plain": [
              "'/content/compmix//test_set.json'"
            ],
            "application/vnd.google.colaboratory.intrinsic+json": {
              "type": "string"
            }
          },
          "metadata": {},
          "execution_count": 4
        }
      ]
    },
    {
      "cell_type": "code",
      "source": [
        "# Load the compmix dataset\n",
        "with open('/content/compmix/train_set.json', 'r') as file:\n",
        "    compmix_data = json.load(file)"
      ],
      "metadata": {
        "id": "o2jf5W5h9ack"
      },
      "execution_count": 5,
      "outputs": []
    },
    {
      "cell_type": "code",
      "source": [
        "compmix_data[0]"
      ],
      "metadata": {
        "colab": {
          "base_uri": "https://localhost:8080/"
        },
        "id": "LlQMziWE9jik",
        "outputId": "1ed99dc2-04ab-4ecc-8bb0-5447f4d3115a"
      },
      "execution_count": 6,
      "outputs": [
        {
          "output_type": "execute_result",
          "data": {
            "text/plain": [
              "{'question_id': '3642',\n",
              " 'question': 'What is the genre of the tv series High Seas?',\n",
              " 'domain': 'tvseries',\n",
              " 'entities': [{'id': 'Q186424', 'label': 'detective fiction'}],\n",
              " 'answers': [{'id': 'Q59591953', 'label': 'High Seas'}],\n",
              " 'answer_src': 'kb',\n",
              " 'answer_text': 'detective fiction',\n",
              " 'convmix_question_id': '1236-0'}"
            ]
          },
          "metadata": {},
          "execution_count": 6
        }
      ]
    },
    {
      "cell_type": "markdown",
      "source": [
        "## HYBRIDQA"
      ],
      "metadata": {
        "id": "-d5d5HTm1RNV"
      }
    },
    {
      "cell_type": "code",
      "source": [
        "!mkdir hybridqa"
      ],
      "metadata": {
        "id": "njzhSf8PAwSL"
      },
      "execution_count": 7,
      "outputs": []
    },
    {
      "cell_type": "code",
      "source": [
        "!mkdir hybridqa/raw"
      ],
      "metadata": {
        "id": "FmG6p9-DA1gV"
      },
      "execution_count": 8,
      "outputs": []
    },
    {
      "cell_type": "code",
      "source": [
        "!mkdir hybridqa/preprocessed"
      ],
      "metadata": {
        "id": "cXSSeuMVBIrp"
      },
      "execution_count": 9,
      "outputs": []
    },
    {
      "cell_type": "code",
      "source": [
        "# hybrid_qa preprocessed datasets url\n",
        "hybridqa_preprocessed_url = \"https://hybridqa.s3-us-west-2.amazonaws.com/preprocessed_data.zip\"\n",
        "\n",
        "# Download the prepocessed HybridQA dataset\n",
        "wget.download(hybridqa_preprocessed_url, out=\"/content/hybridqa/preprocessed/\")"
      ],
      "metadata": {
        "colab": {
          "base_uri": "https://localhost:8080/",
          "height": 37
        },
        "id": "nLSghqRhBvMv",
        "outputId": "6cedc04c-9b26-49cf-f887-6b60a765a953"
      },
      "execution_count": 10,
      "outputs": [
        {
          "output_type": "execute_result",
          "data": {
            "text/plain": [
              "'/content/hybridqa/preprocessed//preprocessed_data.zip'"
            ],
            "application/vnd.google.colaboratory.intrinsic+json": {
              "type": "string"
            }
          },
          "metadata": {},
          "execution_count": 10
        }
      ]
    },
    {
      "cell_type": "code",
      "source": [
        "# Unzip preprocessed hybridqa\n",
        "\n",
        "!unzip hybridqa/preprocessed/preprocessed_data.zip -d hybridqa/preprocessed/"
      ],
      "metadata": {
        "colab": {
          "base_uri": "https://localhost:8080/"
        },
        "id": "J1hLgYEZCH8D",
        "outputId": "40c8dc9c-a793-452e-8391-7b2f04dc9730"
      },
      "execution_count": 11,
      "outputs": [
        {
          "output_type": "stream",
          "name": "stdout",
          "text": [
            "Archive:  hybridqa/preprocessed/preprocessed_data.zip\n",
            "   creating: hybridqa/preprocessed/preprocessed_data/\n",
            "  inflating: hybridqa/preprocessed/preprocessed_data/stage3_training_data.json  \n",
            "  inflating: hybridqa/preprocessed/preprocessed_data/stage3_dev_data.json  \n",
            "  inflating: hybridqa/preprocessed/preprocessed_data/train_step3.json  \n",
            "  inflating: hybridqa/preprocessed/preprocessed_data/stage1_training_data.json  \n",
            "  inflating: hybridqa/preprocessed/preprocessed_data/stage2_training_data.json  \n",
            "  inflating: hybridqa/preprocessed/preprocessed_data/test_step1.json  \n",
            "  inflating: hybridqa/preprocessed/preprocessed_data/stage2_dev_data.json  \n",
            "  inflating: hybridqa/preprocessed/preprocessed_data/train_step1.json  \n",
            "  inflating: hybridqa/preprocessed/preprocessed_data/test_inputs.json  \n",
            "  inflating: hybridqa/preprocessed/preprocessed_data/train_step2.json  \n",
            "  inflating: hybridqa/preprocessed/preprocessed_data/stage1_dev_data.json  \n",
            "  inflating: hybridqa/preprocessed/preprocessed_data/dev_step3.json  \n",
            "  inflating: hybridqa/preprocessed/preprocessed_data/dev_step2.json  \n",
            "  inflating: hybridqa/preprocessed/preprocessed_data/dev_inputs.json  \n",
            "  inflating: hybridqa/preprocessed/preprocessed_data/.history  \n",
            "  inflating: hybridqa/preprocessed/preprocessed_data/dev_step1.json  \n",
            "  inflating: hybridqa/preprocessed/preprocessed_data/test_step2.json  \n"
          ]
        }
      ]
    },
    {
      "cell_type": "code",
      "source": [
        "# hybridqa raw training seturl\n",
        "hybridqa_raw_url = \"https://github.com/wenhuchen/HybridQA/blob/master/released_data/train.json\"\n",
        "\n",
        "# Download the raw HybridQA dataset\n",
        "wget.download(hybridqa_raw_url, out=\"/content/hybridqa/raw/\")\n"
      ],
      "metadata": {
        "colab": {
          "base_uri": "https://localhost:8080/",
          "height": 37
        },
        "id": "tLkK2YPZ2Isf",
        "outputId": "0fce6e5e-3491-43a0-a555-e93079ae7ada"
      },
      "execution_count": 12,
      "outputs": [
        {
          "output_type": "execute_result",
          "data": {
            "text/plain": [
              "'/content/hybridqa/raw//train.json'"
            ],
            "application/vnd.google.colaboratory.intrinsic+json": {
              "type": "string"
            }
          },
          "metadata": {},
          "execution_count": 12
        }
      ]
    },
    {
      "cell_type": "code",
      "source": [
        "# Load the HybridQA dataset\n",
        "with open('/content/hybridqa/preprocessed/preprocessed_data/train_step1.json', 'r') as file:\n",
        "    hybridqa_data = json.load(file)"
      ],
      "metadata": {
        "id": "h101PiGh3VcS"
      },
      "execution_count": 13,
      "outputs": []
    },
    {
      "cell_type": "code",
      "source": [
        "hybridqa_data[0]"
      ],
      "metadata": {
        "colab": {
          "base_uri": "https://localhost:8080/"
        },
        "id": "8D4FPZxZFX6h",
        "outputId": "08411396-af68-4cf3-cfa7-2c0f88a9b5f2"
      },
      "execution_count": 14,
      "outputs": [
        {
          "output_type": "execute_result",
          "data": {
            "text/plain": [
              "{'question_id': '00009b9649d0dd0a',\n",
              " 'question': 'Who were the builders of the mosque in Herat with fire temples ?',\n",
              " 'table_id': 'List_of_mosques_in_Afghanistan_0',\n",
              " 'answer-text': 'Ghurids',\n",
              " 'question_postag': 'WP VBD DT NNS IN DT NN IN NNP IN NN NNS .',\n",
              " 'answer-node': [['Kabul', [0, 2], '/wiki/Kabul', 'passage'],\n",
              "  ['Kabul', [5, 2], '/wiki/Kabul', 'passage'],\n",
              "  ['Great Mosque of Herat', [3, 0], '/wiki/Great_Mosque_of_Herat', 'passage'],\n",
              "  ['Mazar-i-Sharif', [4, 2], '/wiki/Mazar-i-Sharif', 'passage']],\n",
              " 'tf-idf': [['Fire temple',\n",
              "   [3, 4],\n",
              "   '/wiki/Fire_temple',\n",
              "   'As of 2019 [ update ] , there were 167 fire temples in the world , of which 45 were in Mumbai , 105 in the rest of India , and 17 in other countries .',\n",
              "   0.8433264341484528]],\n",
              " 'string-overlap': [['Abdul Rahman Mosque',\n",
              "   [0, 0],\n",
              "   '/wiki/Abdul_Rahman_Mosque',\n",
              "   'Construction of the mosque began in 2001 by Hajji Abdur Rahman but was delayed for several years due to red tape .',\n",
              "   0.765625],\n",
              "  ['Abdul Rahman Mosque',\n",
              "   [0, 0],\n",
              "   '/wiki/Abdul_Rahman_Mosque',\n",
              "   'The building of the mosque is said to have been initially designed by Afghan architect Mir Hafizullah Hashimi .',\n",
              "   0.75],\n",
              "  ['Great Mosque of Herat',\n",
              "   [3, 0],\n",
              "   '/wiki/Great_Mosque_of_Herat',\n",
              "   'Though many of the glazed tiles have been replaced during subsequent periods , the Friday Mosque in Herat was given its present form during the closing years of the fifteenth century .',\n",
              "   0.71875],\n",
              "  ['Fire temple',\n",
              "   [3, 4],\n",
              "   '/wiki/Fire_temple',\n",
              "   'As of 2019 [ update ] , there were 167 fire temples in the world , of which 45 were in Mumbai , 105 in the rest of India , and 17 in other countries .',\n",
              "   0.78125]]}"
            ]
          },
          "metadata": {},
          "execution_count": 14
        }
      ]
    },
    {
      "cell_type": "markdown",
      "source": [
        "##YELP"
      ],
      "metadata": {
        "id": "N9IxqkNz1WXJ"
      }
    },
    {
      "cell_type": "markdown",
      "source": [
        "Yelp requires authentication and you need to sign a license before getting access to the dataset."
      ],
      "metadata": {
        "id": "JWgBPc9MMp6F"
      }
    },
    {
      "cell_type": "code",
      "source": [
        "!mkdir yelp"
      ],
      "metadata": {
        "id": "HG84cz61HDIo"
      },
      "execution_count": 15,
      "outputs": []
    }
  ]
}